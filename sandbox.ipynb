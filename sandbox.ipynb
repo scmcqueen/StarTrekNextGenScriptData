{
 "cells": [
  {
   "cell_type": "code",
   "execution_count": 186,
   "metadata": {},
   "outputs": [],
   "source": [
    "import pandas as pd\n",
    "from datetime import datetime\n",
    "import re"
   ]
  },
  {
   "cell_type": "code",
   "execution_count": 187,
   "metadata": {},
   "outputs": [],
   "source": [
    "def open_file(filename):\n",
    "    try:\n",
    "        f = open(filename, \"r\")\n",
    "        text = f.read()\n",
    "    except:\n",
    "        f = open(filename, \"r\",encoding='latin-1')\n",
    "        text = f.read()\n",
    "        # encoding='latin-1'\n",
    "    lines = text.split('\\n')\n",
    "    return lines\n",
    "\n",
    "\n",
    "def clean_name(name: str) -> str:\n",
    "    char_add_ons = ['V.O.', \"'S COM VOICE\",\n",
    "                    'Cont\\'d', 'O.S.', \"'S\", \"VOICE\", \"INTERCOM\"]\n",
    "    for txt in char_add_ons:\n",
    "        if txt in name:\n",
    "            name = name.replace(txt, '')\n",
    "    return re.sub(\"[\\(\\[].*?[\\)\\]]\", \"\", name.strip())\n",
    "\n",
    "\n",
    "def get_title(lines):\n",
    "    series_ind = 0\n",
    "    for i in range(len(lines)):\n",
    "        if \"STAR TREK: THE NEXT GENERATION\" in lines[i] or 'STAR TREK: DEEP SPACE NINE' in lines[i]:\n",
    "            series_ind = i\n",
    "            break\n",
    "    return str(lines[series_ind+2]).strip().replace('\"','')\n",
    "\n",
    "\n",
    "def get_date(lines):\n",
    "    draft_ind = 0\n",
    "    for i in range(len(lines)):\n",
    "        if \"FINAL DRAFT\" in lines[i]:\n",
    "            series_ind = i\n",
    "            break\n",
    "    try:\n",
    "        date = str(lines[series_ind+2])\n",
    "        date = date.strip()\n",
    "        final = datetime.strptime(date, '%B %d, %Y')\n",
    "    except:\n",
    "        print(lines[series_ind+2])\n",
    "        final = \"AHHH\"\n",
    "    return final\n",
    "\n"
   ]
  },
  {
   "cell_type": "code",
   "execution_count": 188,
   "metadata": {},
   "outputs": [],
   "source": [
    "def get_quotes(lines):\n",
    "#    characters = [x for x in lines if '\\t\\t\\t\\t\\t' in x]\n",
    "    char_index = [i for i in range(len(lines)) if '\\t\\t\\t\\t\\t' in lines[i]]\n",
    "    scenes_index = [j for j in range(len(lines)) if 'INT.' in lines[j] or 'EXT.' in lines[j]]\n",
    "\n",
    "    data = []\n",
    "\n",
    "    for i in char_index:\n",
    "        name = lines[i].replace('\\t\\t\\t\\t\\t', '')\n",
    "        if \"FADE OUT\" in name:\n",
    "            continue\n",
    "\n",
    "        j = i+1\n",
    "        next_line = lines[j]\n",
    "\n",
    "        quote = \"\"\n",
    "\n",
    "        while next_line != '':\n",
    "            next_line = next_line.replace('\\t', ' ')\n",
    "            quote += re.sub(\"[\\(\\[].*?[\\)\\]]\", \"\", next_line)\n",
    "            j = j+1\n",
    "            next_line = lines[j]\n",
    "\n",
    "        if quote!=\"\":\n",
    "            print(quote,lines[j],lines[j-1])\n",
    "            print(j)\n",
    "            print(scenes_index)\n",
    "            scene = lines[max([x for x in scenes_index if x < i])]\n",
    "\n",
    "            data.append([name, quote,scene])\n",
    "\n",
    "    test_df = pd.DataFrame(data, columns=['character', 'quote','scene'])\n",
    "    return (test_df)\n",
    "\n",
    "def clean_location(loc:str):\n",
    "    views = ['INT.','EXT.']\n",
    "    output = loc\n",
    "    for v in views:\n",
    "        if v in output:\n",
    "            output = output[output.index(v)+5:]\n",
    "    if '(' in output:\n",
    "        output = output[:output.index('(')-1]\n",
    "    elif '-' in output:\n",
    "        output = output[:output.index('-')-1]\n",
    "    return(output)\n",
    "\n",
    "def get_view(loc:str):\n",
    "    output = None\n",
    "    views = ['INT.','EXT.']\n",
    "    for v in views:\n",
    "        if v in loc:\n",
    "            output=v\n",
    "    return(output)\n",
    "\n",
    "\n",
    "def create_df(filepath: str) -> pd.DataFrame:\n",
    "    lines = open_file(filepath)\n",
    "    test_df = get_quotes(lines)\n",
    "    test_df['location']=test_df['scene'].apply(clean_location)\n",
    "    test_df['view']=test_df['scene'].apply(get_view)\n",
    "    test_df['character'] = test_df['character'].apply(clean_name)\n",
    "    test_df['episode'] = get_title(lines)\n",
    "    test_df['date']=get_date(lines)\n",
    "    return test_df\n"
   ]
  },
  {
   "cell_type": "code",
   "execution_count": 189,
   "metadata": {},
   "outputs": [
    {
     "name": "stdout",
     "output_type": "stream",
     "text": [
      "   The truth is I'm a career man...   you know, married to my job...   Mitzi doesn't understand that...   I like her a lot... but I just   don't think I'm ready for two   marriages if you know what I   mean...  \t\t\tmean...\n",
      "132\n",
      "[159, 191, 257, 290, 303, 454, 468, 634, 818, 820, 964, 1023, 1037, 1120, 1141, 1207, 1243, 1291, 1307, 1312, 1325, 1344, 1352, 1357, 1362, 1373, 1429, 1566, 1765, 1769, 1780, 1787, 1803, 1813, 1893, 1970, 2027, 2093, 2098, 2109, 2195, 2199, 2221, 2366, 2370, 2549, 2637, 2679, 2936, 2967, 3006, 3018]\n"
     ]
    },
    {
     "ename": "ValueError",
     "evalue": "max() arg is an empty sequence",
     "output_type": "error",
     "traceback": [
      "\u001b[0;31m---------------------------------------------------------------------------\u001b[0m",
      "\u001b[0;31mValueError\u001b[0m                                Traceback (most recent call last)",
      "Cell \u001b[0;32mIn[189], line 1\u001b[0m\n\u001b[0;32m----> 1\u001b[0m x\u001b[38;5;241m=\u001b[39mcreate_df(\u001b[38;5;124m'\u001b[39m\u001b[38;5;124mscripts_tng/156.txt\u001b[39m\u001b[38;5;124m'\u001b[39m)\n\u001b[1;32m      2\u001b[0m x\n",
      "Cell \u001b[0;32mIn[188], line 58\u001b[0m, in \u001b[0;36mcreate_df\u001b[0;34m(filepath)\u001b[0m\n\u001b[1;32m     56\u001b[0m \u001b[38;5;28;01mdef\u001b[39;00m \u001b[38;5;21mcreate_df\u001b[39m(filepath: \u001b[38;5;28mstr\u001b[39m) \u001b[38;5;241m-\u001b[39m\u001b[38;5;241m>\u001b[39m pd\u001b[38;5;241m.\u001b[39mDataFrame:\n\u001b[1;32m     57\u001b[0m     lines \u001b[38;5;241m=\u001b[39m open_file(filepath)\n\u001b[0;32m---> 58\u001b[0m     test_df \u001b[38;5;241m=\u001b[39m get_quotes(lines)\n\u001b[1;32m     59\u001b[0m     test_df[\u001b[38;5;124m'\u001b[39m\u001b[38;5;124mlocation\u001b[39m\u001b[38;5;124m'\u001b[39m]\u001b[38;5;241m=\u001b[39mtest_df[\u001b[38;5;124m'\u001b[39m\u001b[38;5;124mscene\u001b[39m\u001b[38;5;124m'\u001b[39m]\u001b[38;5;241m.\u001b[39mapply(clean_location)\n\u001b[1;32m     60\u001b[0m     test_df[\u001b[38;5;124m'\u001b[39m\u001b[38;5;124mview\u001b[39m\u001b[38;5;124m'\u001b[39m]\u001b[38;5;241m=\u001b[39mtest_df[\u001b[38;5;124m'\u001b[39m\u001b[38;5;124mscene\u001b[39m\u001b[38;5;124m'\u001b[39m]\u001b[38;5;241m.\u001b[39mapply(get_view)\n",
      "Cell \u001b[0;32mIn[188], line 28\u001b[0m, in \u001b[0;36mget_quotes\u001b[0;34m(lines)\u001b[0m\n\u001b[1;32m     26\u001b[0m         \u001b[38;5;28mprint\u001b[39m(j)\n\u001b[1;32m     27\u001b[0m         \u001b[38;5;28mprint\u001b[39m(scenes_index)\n\u001b[0;32m---> 28\u001b[0m         scene \u001b[38;5;241m=\u001b[39m lines[\u001b[38;5;28mmax\u001b[39m([x \u001b[38;5;28;01mfor\u001b[39;00m x \u001b[38;5;129;01min\u001b[39;00m scenes_index \u001b[38;5;28;01mif\u001b[39;00m x \u001b[38;5;241m<\u001b[39m i])]\n\u001b[1;32m     30\u001b[0m         data\u001b[38;5;241m.\u001b[39mappend([name, quote,scene])\n\u001b[1;32m     32\u001b[0m test_df \u001b[38;5;241m=\u001b[39m pd\u001b[38;5;241m.\u001b[39mDataFrame(data, columns\u001b[38;5;241m=\u001b[39m[\u001b[38;5;124m'\u001b[39m\u001b[38;5;124mcharacter\u001b[39m\u001b[38;5;124m'\u001b[39m, \u001b[38;5;124m'\u001b[39m\u001b[38;5;124mquote\u001b[39m\u001b[38;5;124m'\u001b[39m,\u001b[38;5;124m'\u001b[39m\u001b[38;5;124mscene\u001b[39m\u001b[38;5;124m'\u001b[39m])\n",
      "\u001b[0;31mValueError\u001b[0m: max() arg is an empty sequence"
     ]
    }
   ],
   "source": [
    "x=create_df('scripts_tng/156.txt')\n",
    "x"
   ]
  },
  {
   "cell_type": "code",
   "execution_count": 191,
   "metadata": {},
   "outputs": [
    {
     "data": {
      "text/plain": [
       "'The Maquis, Part I'"
      ]
     },
     "execution_count": 191,
     "metadata": {},
     "output_type": "execute_result"
    }
   ],
   "source": [
    "lines = open_file('scripts_ds9/440.txt')\n",
    "get_title(lines)"
   ]
  },
  {
   "cell_type": "code",
   "execution_count": 192,
   "metadata": {},
   "outputs": [],
   "source": [
    "full_data=pd.read_csv('complete_data.csv',index_col=0)\n",
    "\n",
    "# INT. COMMANDER'S OFFICE, COMMANDER'S OFFICE, INT.,"
   ]
  },
  {
   "cell_type": "code",
   "execution_count": 193,
   "metadata": {},
   "outputs": [
    {
     "data": {
      "text/html": [
       "<div>\n",
       "<style scoped>\n",
       "    .dataframe tbody tr th:only-of-type {\n",
       "        vertical-align: middle;\n",
       "    }\n",
       "\n",
       "    .dataframe tbody tr th {\n",
       "        vertical-align: top;\n",
       "    }\n",
       "\n",
       "    .dataframe thead th {\n",
       "        text-align: right;\n",
       "    }\n",
       "</style>\n",
       "<table border=\"1\" class=\"dataframe\">\n",
       "  <thead>\n",
       "    <tr style=\"text-align: right;\">\n",
       "      <th></th>\n",
       "      <th>character</th>\n",
       "      <th>quote</th>\n",
       "      <th>scene</th>\n",
       "      <th>location</th>\n",
       "      <th>view</th>\n",
       "      <th>episode</th>\n",
       "      <th>date</th>\n",
       "      <th>series</th>\n",
       "      <th>file</th>\n",
       "    </tr>\n",
       "  </thead>\n",
       "  <tbody>\n",
       "  </tbody>\n",
       "</table>\n",
       "</div>"
      ],
      "text/plain": [
       "Empty DataFrame\n",
       "Columns: [character, quote, scene, location, view, episode, date, series, file]\n",
       "Index: []"
      ]
     },
     "execution_count": 193,
     "metadata": {},
     "output_type": "execute_result"
    }
   ],
   "source": [
    "full_data[ full_data.view.isna()] #The Maquis, Part I"
   ]
  }
 ],
 "metadata": {
  "kernelspec": {
   "display_name": "si649f23",
   "language": "python",
   "name": "python3"
  },
  "language_info": {
   "codemirror_mode": {
    "name": "ipython",
    "version": 3
   },
   "file_extension": ".py",
   "mimetype": "text/x-python",
   "name": "python",
   "nbconvert_exporter": "python",
   "pygments_lexer": "ipython3",
   "version": "3.11.4"
  }
 },
 "nbformat": 4,
 "nbformat_minor": 2
}
