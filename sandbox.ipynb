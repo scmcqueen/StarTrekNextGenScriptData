{
 "cells": [
  {
   "cell_type": "code",
   "execution_count": 186,
   "metadata": {},
   "outputs": [],
   "source": [
    "import pandas as pd\n",
    "from datetime import datetime\n",
    "import re"
   ]
  },
  {
   "cell_type": "code",
   "execution_count": 187,
   "metadata": {},
   "outputs": [],
   "source": [
    "def open_file(filename):\n",
    "    try:\n",
    "        f = open(filename, \"r\")\n",
    "        text = f.read()\n",
    "    except:\n",
    "        f = open(filename, \"r\",encoding='latin-1')\n",
    "        text = f.read()\n",
    "        # encoding='latin-1'\n",
    "    lines = text.split('\\n')\n",
    "    return lines\n",
    "\n",
    "\n",
    "def clean_name(name: str) -> str:\n",
    "    char_add_ons = ['V.O.', \"'S COM VOICE\",\n",
    "                    'Cont\\'d', 'O.S.', \"'S\", \"VOICE\", \"INTERCOM\"]\n",
    "    for txt in char_add_ons:\n",
    "        if txt in name:\n",
    "            name = name.replace(txt, '')\n",
    "    return re.sub(\"[\\(\\[].*?[\\)\\]]\", \"\", name.strip())\n",
    "\n",
    "\n",
    "def get_title(lines):\n",
    "    series_ind = 0\n",
    "    for i in range(len(lines)):\n",
    "        if \"STAR TREK: THE NEXT GENERATION\" in lines[i] or 'STAR TREK: DEEP SPACE NINE' in lines[i]:\n",
    "            series_ind = i\n",
    "            break\n",
    "    return str(lines[series_ind+2]).strip().replace('\"','')\n",
    "\n",
    "\n",
    "def get_date(lines):\n",
    "    draft_ind = 0\n",
    "    for i in range(len(lines)):\n",
    "        if \"FINAL DRAFT\" in lines[i]:\n",
    "            series_ind = i\n",
    "            break\n",
    "    try:\n",
    "        date = str(lines[series_ind+2])\n",
    "        date = date.strip()\n",
    "        print(date)\n",
    "        final = datetime.strptime(date, '%B %d, %Y')\n",
    "    except:\n",
    "        print(lines[series_ind+2])\n",
    "        final = \"AHHH\"\n",
    "    return final\n",
    "\n"
   ]
  },
  {
   "cell_type": "code",
   "execution_count": 188,
   "metadata": {},
   "outputs": [],
   "source": [
    "def get_quotes(lines):\n",
    "#    characters = [x for x in lines if '\\t\\t\\t\\t\\t' in x]\n",
    "    char_index = [i for i in range(len(lines)) if '\\t\\t\\t\\t\\t' in lines[i]]\n",
    "    scenes_index = [j for j in range(len(lines)) if 'INT.' in lines[j] or 'EXT.' in lines[j]]\n",
    "\n",
    "    data = []\n",
    "\n",
    "    for i in char_index:\n",
    "        name = lines[i].replace('\\t\\t\\t\\t\\t', '')\n",
    "        if \"FADE OUT\" in name:\n",
    "            continue\n",
    "\n",
    "        j = i+1\n",
    "        next_line = lines[j]\n",
    "\n",
    "        quote = \"\"\n",
    "\n",
    "        while next_line != '':\n",
    "            next_line = next_line.replace('\\t', ' ')\n",
    "            quote += re.sub(\"[\\(\\[].*?[\\)\\]]\", \"\", next_line)\n",
    "            j = j+1\n",
    "            next_line = lines[j]\n",
    "\n",
    "        if quote!=\"\":\n",
    "            print(quote,lines[j],lines[j-1])\n",
    "            print(j)\n",
    "            print(scenes_index)\n",
    "            scene = lines[max([x for x in scenes_index if x < i])]\n",
    "\n",
    "            data.append([name, quote,scene])\n",
    "\n",
    "    test_df = pd.DataFrame(data, columns=['character', 'quote','scene'])\n",
    "    return (test_df)\n",
    "\n",
    "def clean_location(loc:str):\n",
    "    views = ['INT.','EXT.']\n",
    "    output = loc\n",
    "    for v in views:\n",
    "        if v in output:\n",
    "            output = output[output.index(v)+5:]\n",
    "    if '(' in output:\n",
    "        output = output[:output.index('(')-1]\n",
    "    elif '-' in output:\n",
    "        output = output[:output.index('-')-1]\n",
    "    return(output)\n",
    "\n",
    "def get_view(loc:str):\n",
    "    output = None\n",
    "    views = ['INT.','EXT.']\n",
    "    for v in views:\n",
    "        if v in loc:\n",
    "            output=v\n",
    "    return(output)\n",
    "\n",
    "\n",
    "def create_df(filepath: str) -> pd.DataFrame:\n",
    "    lines = open_file(filepath)\n",
    "    test_df = get_quotes(lines)\n",
    "    test_df['location']=test_df['scene'].apply(clean_location)\n",
    "    test_df['view']=test_df['scene'].apply(get_view)\n",
    "    test_df['character'] = test_df['character'].apply(clean_name)\n",
    "    test_df['episode'] = get_title(lines)\n",
    "    test_df['date']=get_date(lines)\n",
    "    return test_df\n"
   ]
  },
  {
   "cell_type": "code",
   "execution_count": 217,
   "metadata": {},
   "outputs": [
    {
     "name": "stdout",
     "output_type": "stream",
     "text": [
      "['469.txt' '270.txt' '267.txt' '209.txt' '232.txt' '193.txt' '192.txt'\n",
      " '227.txt' '233.txt' '243.txt' '268.txt' '241.txt' '251.txt' '132.txt']\n"
     ]
    }
   ],
   "source": [
    "full_data=pd.read_csv('complete_data.csv',index_col=0)\n",
    "date_issues = full_data[ full_data.date=='AHHH'].file.unique()\n",
    "print(date_issues)"
   ]
  },
  {
   "cell_type": "code",
   "execution_count": 276,
   "metadata": {},
   "outputs": [
    {
     "name": "stdout",
     "output_type": "stream",
     "text": [
      "date  :  !!!\n",
      "['            STAR TREK: \"Tapestry - 11/30/92 - CAST ']\n"
     ]
    },
    {
     "data": {
      "text/plain": [
       "datetime.datetime(1992, 11, 30, 0, 0)"
      ]
     },
     "execution_count": 276,
     "metadata": {},
     "output_type": "execute_result"
    }
   ],
   "source": [
    "def get_date(lines):\n",
    "    for i in range(len(lines)):\n",
    "        if \"FINAL DRAFT\" in lines[i]:\n",
    "            series_ind = i\n",
    "            break\n",
    "    date = str(lines[series_ind+2])\n",
    "    date = date.strip()\n",
    "    final=date\n",
    "    spaces = len(date.split())\n",
    "    continue_b = False\n",
    "    if ''==date:\n",
    "        continue_b=True\n",
    "    elif ',' not in date:\n",
    "        final = datetime.strptime(date, '%B %d %Y')\n",
    "    elif spaces ==3:\n",
    "        final = datetime.strptime(date, '%B %d, %Y')\n",
    "    elif spaces==2:\n",
    "        final = datetime.strptime(date, '%B %d,%Y')\n",
    "    else:\n",
    "        print('Unknown date format')\n",
    "\n",
    "    if continue_b:\n",
    "        pattern = re.compile(r'^STAR TREK:.* CAST*')\n",
    "        filtered_strings = [s for s in lines if pattern.match(s.strip())]\n",
    "        date_info = filtered_strings[0]\n",
    "        date_info=re.search(r'\\d{2}/\\d{2}/\\d{2}', date_info).group()\n",
    "        final = datetime.strptime(date_info, '%m/%d/%y')\n",
    "    return final\n",
    "\n",
    "lines = open_file('scripts_tng/241.txt')\n",
    "get_date(lines)\n",
    "\n"
   ]
  },
  {
   "cell_type": "code",
   "execution_count": 226,
   "metadata": {},
   "outputs": [
    {
     "name": "stdout",
     "output_type": "stream",
     "text": [
      "STAR TREK:*CAST\n"
     ]
    }
   ],
   "source": [
    "print('STAR TREK:*CAST')"
   ]
  },
  {
   "cell_type": "code",
   "execution_count": 221,
   "metadata": {},
   "outputs": [
    {
     "data": {
      "text/plain": [
       "'11/17/93'"
      ]
     },
     "execution_count": 221,
     "metadata": {},
     "output_type": "execute_result"
    }
   ],
   "source": [
    "t='''STAR TREK: \"Lower Decks\" - 11/17/93 - CAST '''\n",
    "re.search(r'\\d{2}/\\d{2}/\\d{2}', t).group()"
   ]
  }
 ],
 "metadata": {
  "kernelspec": {
   "display_name": "si649f23",
   "language": "python",
   "name": "python3"
  },
  "language_info": {
   "codemirror_mode": {
    "name": "ipython",
    "version": 3
   },
   "file_extension": ".py",
   "mimetype": "text/x-python",
   "name": "python",
   "nbconvert_exporter": "python",
   "pygments_lexer": "ipython3",
   "version": "3.11.4"
  }
 },
 "nbformat": 4,
 "nbformat_minor": 2
}
